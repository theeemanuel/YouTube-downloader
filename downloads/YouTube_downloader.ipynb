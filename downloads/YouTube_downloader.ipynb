{
 "cells": [
  {
   "cell_type": "code",
   "execution_count": 1,
   "id": "bd2c0946",
   "metadata": {},
   "outputs": [
    {
     "name": "stdout",
     "output_type": "stream",
     "text": [
      "\n",
      "Enter the video/playlist link: https://youtube.com/playlist?list=PLFnwhR7QTrcu9szqyaPogjaEch6QYiTHX\n",
      "Enter choice of resolution: 1080p\n",
      "\n",
      "\n",
      "Downloading 2 videos...\n",
      "\n",
      "downloading... https://www.youtube.com/watch?v=a3KKXilSUWs\n",
      "Moviepy - Building video meme/1.mp4.\n",
      "MoviePy - Writing audio in 1TEMP_MPY_wvf_snd.mp3\n"
     ]
    },
    {
     "name": "stderr",
     "output_type": "stream",
     "text": [
      "                                                                                                                       \r"
     ]
    },
    {
     "name": "stdout",
     "output_type": "stream",
     "text": [
      "MoviePy - Done.\n",
      "Moviepy - Writing video meme/1.mp4\n",
      "\n"
     ]
    },
    {
     "name": "stderr",
     "output_type": "stream",
     "text": [
      "                                                                                                                       \r"
     ]
    },
    {
     "name": "stdout",
     "output_type": "stream",
     "text": [
      "Moviepy - Done !\n",
      "Moviepy - video ready meme/1.mp4\n",
      "\n",
      "downloading... https://www.youtube.com/watch?v=-qX0PiG4PW4\n",
      "Moviepy - Building video meme/2.mp4.\n",
      "MoviePy - Writing audio in 2TEMP_MPY_wvf_snd.mp3\n"
     ]
    },
    {
     "name": "stderr",
     "output_type": "stream",
     "text": [
      "                                                                                                                       \r"
     ]
    },
    {
     "name": "stdout",
     "output_type": "stream",
     "text": [
      "MoviePy - Done.\n",
      "Moviepy - Writing video meme/2.mp4\n",
      "\n"
     ]
    },
    {
     "name": "stderr",
     "output_type": "stream",
     "text": [
      "                                                                                                                       \r"
     ]
    },
    {
     "name": "stdout",
     "output_type": "stream",
     "text": [
      "Moviepy - Done !\n",
      "Moviepy - video ready meme/2.mp4\n",
      "\n",
      "\n",
      "Downloaded all videos!\n"
     ]
    }
   ],
   "source": [
    "from pytube import YouTube\n",
    "from pytube import Playlist\n",
    "import os\n",
    "import moviepy.editor as mpe\n",
    "\n",
    "def resolution(url):\n",
    "    video = YouTube(url)\n",
    "\n",
    "    res = []\n",
    "    for stream in video.streams.order_by('resolution'):\n",
    "        res.append(stream.resolution)\n",
    "    resSet = set(res)\n",
    "    \n",
    "    return resSet\n",
    "\n",
    "def download(url, res):\n",
    "    video = YouTube(url).streams.filter(res=res).first().download()\n",
    "    filename = str(video.title)+'.mp4'\n",
    "    os.rename(video,\"video.mp4\")\n",
    "    audio = YouTube(url).streams.filter(only_audio=True).first().download()\n",
    "    os.rename(audio,\"audio.mp3\")\n",
    "    video_stream = mpe.VideoFileClip('video.mp4')\n",
    "    audio_stream = mpe.AudioFileClip('audio.mp3')\n",
    "    output = video_stream.set_audio(audio_stream)\n",
    "    output.write_videofile('output.mp4')\n",
    "    os.remove(\"audio.mp3\")\n",
    "    os.remove(\"video.mp4\")\n",
    "    os.rename('output.mp4',filename)\n",
    "\n",
    "def download_playlist(url, res):\n",
    "    print()\n",
    "    playlist = Playlist(url)\n",
    "    try:\n",
    "        os.makedirs(playlist.title)\n",
    "    except OSError:\n",
    "        pass\n",
    "    print('Downloading %s videos...' % len(playlist.video_urls))\n",
    "    i = 0\n",
    "    for video_url in playlist.video_urls:\n",
    "        print()\n",
    "        print(\"downloading...\",video_url)\n",
    "        video = YouTube(video_url)\n",
    "        try:\n",
    "            vid = video.streams.filter(res=res).first().download()\n",
    "            i += 1\n",
    "            filename = str(playlist.title)+'/'+str(video.title)+'.mp4'\n",
    "            os.rename(vid,'video.mp4')\n",
    "            aud = video.streams.filter(only_audio=True).first().download()\n",
    "            os.rename(aud,'audio.mp3')\n",
    "            video_stream = mpe.VideoFileClip('video.mp4')\n",
    "            audio_stream = mpe.AudioFileClip('audio.mp3')\n",
    "            output = video_stream.set_audio(audio_stream)\n",
    "            output.write_videofile(str(playlist.title)+'/'+str(i)+'.mp4')\n",
    "            os.remove('audio.mp3')\n",
    "            os.remove('video.mp4')\n",
    "            \n",
    "        except Exception:\n",
    "            print(\"Could find it in \"+str(res))\n",
    "            print(\"redownloading '\"+str(video_url)+\"' in highest resolution...\")\n",
    "            vid = video.streams.get_highest_resolution().download()\n",
    "            i += 1\n",
    "            filename = str(playlist.title)+'/'+str(video.title)+'.mp4'\n",
    "            os.rename(vid,str(i)+'video.mp4')\n",
    "            aud = video.streams.filter(only_audio=True).first().download()\n",
    "            os.rename(aud,str(i)+'audio.mp3')\n",
    "            video_stream = mpe.VideoFileClip(str(i)+'video.mp4')\n",
    "            audio_stream = mpe.AudioFileClip(str(i)+'audio.mp3')\n",
    "            output = video_stream.set_audio(audio_stream)\n",
    "            output.write_videofile(str(playlist.title)+'/'+str(i)+'.mp4')\n",
    "            os.remove(str(i)+'audio.mp3')\n",
    "            os.remove(str(i)+'video.mp4')\n",
    "\n",
    "print()\n",
    "url = str(input(\"Enter the video/playlist link: \"))\n",
    "\n",
    "if \"playlist\" in url:\n",
    "    res = str(input(\"Enter choice of resolution: \"))\n",
    "    print()\n",
    "    download_playlist(url, res)\n",
    "    print()\n",
    "    print()\n",
    "    print(\"Downloaded all videos!\")\n",
    "    \n",
    "else:\n",
    "    video = YouTube(url)\n",
    "    print()\n",
    "    print(\"Searching for available resolutions for \")\n",
    "    print(\"'\"+str(video.title)+\"'\")\n",
    "    print(resolution(url))\n",
    "    print()\n",
    "    res = str(input(\"Enter choice of resolution (or for only audio, enter audio): \"))\n",
    "    \n",
    "    if res == 'audio':\n",
    "        audio = video.streams.filter(only_audio=True).first().download()\n",
    "        os.rename(audio, str(video.title)+\".mp3\")\n",
    "    else:\n",
    "        download(url, res)\n",
    "        print()\n",
    "\n",
    "    print(\"Downloaded!\")\n"
   ]
  },
  {
   "cell_type": "code",
   "execution_count": null,
   "id": "88c86381",
   "metadata": {},
   "outputs": [],
   "source": []
  }
 ],
 "metadata": {
  "kernelspec": {
   "display_name": "Python 3 (ipykernel)",
   "language": "python",
   "name": "python3"
  },
  "language_info": {
   "codemirror_mode": {
    "name": "ipython",
    "version": 3
   },
   "file_extension": ".py",
   "mimetype": "text/x-python",
   "name": "python",
   "nbconvert_exporter": "python",
   "pygments_lexer": "ipython3",
   "version": "3.9.7"
  }
 },
 "nbformat": 4,
 "nbformat_minor": 5
}
